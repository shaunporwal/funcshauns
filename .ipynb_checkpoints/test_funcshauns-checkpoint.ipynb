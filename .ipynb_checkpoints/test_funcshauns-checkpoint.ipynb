{
 "cells": [
  {
   "cell_type": "code",
   "execution_count": 1,
   "id": "d17f6730-8fb1-45ea-a3b1-28429d995992",
   "metadata": {},
   "outputs": [],
   "source": [
    "import funcshauns"
   ]
  },
  {
   "cell_type": "code",
   "execution_count": 4,
   "id": "23eca8f1-1bcf-4f7b-b2af-efb91054165d",
   "metadata": {},
   "outputs": [
    {
     "data": {
      "text/plain": [
       "'/Users/porwals/Documents/GitHub/python_packages/funcshauns'"
      ]
     },
     "execution_count": 4,
     "metadata": {},
     "output_type": "execute_result"
    }
   ],
   "source": [
    "funcshauns.get_repo_root()"
   ]
  },
  {
   "cell_type": "code",
   "execution_count": null,
   "id": "cd50c24c-86b6-45cb-a4da-2ce7efe27b46",
   "metadata": {},
   "outputs": [],
   "source": []
  }
 ],
 "metadata": {
  "kernelspec": {
   "display_name": "Python 3 (ipykernel)",
   "language": "python",
   "name": "python3"
  },
  "language_info": {
   "codemirror_mode": {
    "name": "ipython",
    "version": 3
   },
   "file_extension": ".py",
   "mimetype": "text/x-python",
   "name": "python",
   "nbconvert_exporter": "python",
   "pygments_lexer": "ipython3",
   "version": "3.10.16"
  }
 },
 "nbformat": 4,
 "nbformat_minor": 5
}
